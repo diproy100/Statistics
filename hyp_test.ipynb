{
 "cells": [
  {
   "cell_type": "code",
   "execution_count": 2,
   "id": "1cf6ab11",
   "metadata": {},
   "outputs": [],
   "source": [
    "import pandas as pd\n",
    "from scipy import stats"
   ]
  },
  {
   "cell_type": "code",
   "execution_count": 3,
   "id": "efa6f3c0",
   "metadata": {},
   "outputs": [],
   "source": [
    "education_districtwise = pd.read_csv(\"education_districtwise.csv\")"
   ]
  },
  {
   "cell_type": "code",
   "execution_count": 4,
   "id": "1d5e6e7d",
   "metadata": {},
   "outputs": [
    {
     "data": {
      "text/plain": [
       "(680, 7)"
      ]
     },
     "execution_count": 4,
     "metadata": {},
     "output_type": "execute_result"
    }
   ],
   "source": [
    "education_districtwise.shape"
   ]
  },
  {
   "cell_type": "code",
   "execution_count": 5,
   "id": "e343d356",
   "metadata": {},
   "outputs": [
    {
     "data": {
      "text/html": [
       "<div>\n",
       "<style scoped>\n",
       "    .dataframe tbody tr th:only-of-type {\n",
       "        vertical-align: middle;\n",
       "    }\n",
       "\n",
       "    .dataframe tbody tr th {\n",
       "        vertical-align: top;\n",
       "    }\n",
       "\n",
       "    .dataframe thead th {\n",
       "        text-align: right;\n",
       "    }\n",
       "</style>\n",
       "<table border=\"1\" class=\"dataframe\">\n",
       "  <thead>\n",
       "    <tr style=\"text-align: right;\">\n",
       "      <th></th>\n",
       "      <th>DISTNAME</th>\n",
       "      <th>STATNAME</th>\n",
       "      <th>BLOCKS</th>\n",
       "      <th>VILLAGES</th>\n",
       "      <th>CLUSTERS</th>\n",
       "      <th>TOTPOPULAT</th>\n",
       "      <th>OVERALL_LI</th>\n",
       "    </tr>\n",
       "  </thead>\n",
       "  <tbody>\n",
       "    <tr>\n",
       "      <th>0</th>\n",
       "      <td>DISTRICT32</td>\n",
       "      <td>STATE1</td>\n",
       "      <td>13</td>\n",
       "      <td>391</td>\n",
       "      <td>104</td>\n",
       "      <td>875564.0</td>\n",
       "      <td>66.92</td>\n",
       "    </tr>\n",
       "    <tr>\n",
       "      <th>1</th>\n",
       "      <td>DISTRICT649</td>\n",
       "      <td>STATE1</td>\n",
       "      <td>18</td>\n",
       "      <td>678</td>\n",
       "      <td>144</td>\n",
       "      <td>1015503.0</td>\n",
       "      <td>66.93</td>\n",
       "    </tr>\n",
       "    <tr>\n",
       "      <th>2</th>\n",
       "      <td>DISTRICT229</td>\n",
       "      <td>STATE1</td>\n",
       "      <td>8</td>\n",
       "      <td>94</td>\n",
       "      <td>65</td>\n",
       "      <td>1269751.0</td>\n",
       "      <td>71.21</td>\n",
       "    </tr>\n",
       "    <tr>\n",
       "      <th>3</th>\n",
       "      <td>DISTRICT259</td>\n",
       "      <td>STATE1</td>\n",
       "      <td>13</td>\n",
       "      <td>523</td>\n",
       "      <td>104</td>\n",
       "      <td>735753.0</td>\n",
       "      <td>57.98</td>\n",
       "    </tr>\n",
       "    <tr>\n",
       "      <th>4</th>\n",
       "      <td>DISTRICT486</td>\n",
       "      <td>STATE1</td>\n",
       "      <td>8</td>\n",
       "      <td>359</td>\n",
       "      <td>64</td>\n",
       "      <td>570060.0</td>\n",
       "      <td>65.00</td>\n",
       "    </tr>\n",
       "  </tbody>\n",
       "</table>\n",
       "</div>"
      ],
      "text/plain": [
       "      DISTNAME STATNAME  BLOCKS  VILLAGES  CLUSTERS  TOTPOPULAT  OVERALL_LI\n",
       "0   DISTRICT32   STATE1      13       391       104    875564.0       66.92\n",
       "1  DISTRICT649   STATE1      18       678       144   1015503.0       66.93\n",
       "2  DISTRICT229   STATE1       8        94        65   1269751.0       71.21\n",
       "3  DISTRICT259   STATE1      13       523       104    735753.0       57.98\n",
       "4  DISTRICT486   STATE1       8       359        64    570060.0       65.00"
      ]
     },
     "execution_count": 5,
     "metadata": {},
     "output_type": "execute_result"
    }
   ],
   "source": [
    "education_districtwise.head()"
   ]
  },
  {
   "cell_type": "code",
   "execution_count": 6,
   "id": "96536e11",
   "metadata": {},
   "outputs": [
    {
     "data": {
      "text/plain": [
       "DISTNAME       0\n",
       "STATNAME       0\n",
       "BLOCKS         0\n",
       "VILLAGES       0\n",
       "CLUSTERS       0\n",
       "TOTPOPULAT    46\n",
       "OVERALL_LI    46\n",
       "dtype: int64"
      ]
     },
     "execution_count": 6,
     "metadata": {},
     "output_type": "execute_result"
    }
   ],
   "source": [
    "education_districtwise.isna().sum()"
   ]
  },
  {
   "cell_type": "code",
   "execution_count": 7,
   "id": "d707964a",
   "metadata": {},
   "outputs": [],
   "source": [
    "education_districtwise = education_districtwise.dropna()"
   ]
  },
  {
   "cell_type": "code",
   "execution_count": 8,
   "id": "265c3bcd",
   "metadata": {},
   "outputs": [
    {
     "data": {
      "text/plain": [
       "DISTNAME      0\n",
       "STATNAME      0\n",
       "BLOCKS        0\n",
       "VILLAGES      0\n",
       "CLUSTERS      0\n",
       "TOTPOPULAT    0\n",
       "OVERALL_LI    0\n",
       "dtype: int64"
      ]
     },
     "execution_count": 8,
     "metadata": {},
     "output_type": "execute_result"
    }
   ],
   "source": [
    "education_districtwise.isna().sum()"
   ]
  },
  {
   "cell_type": "code",
   "execution_count": 9,
   "id": "92b16efc",
   "metadata": {},
   "outputs": [
    {
     "data": {
      "text/plain": [
       "(634, 7)"
      ]
     },
     "execution_count": 9,
     "metadata": {},
     "output_type": "execute_result"
    }
   ],
   "source": [
    "education_districtwise.shape"
   ]
  },
  {
   "cell_type": "code",
   "execution_count": 10,
   "id": "9025b0c9",
   "metadata": {},
   "outputs": [],
   "source": [
    "state21 = education_districtwise[education_districtwise['STATNAME']=='STATE21']\n",
    "state28 = education_districtwise[education_districtwise['STATNAME']=='STATE28']"
   ]
  },
  {
   "cell_type": "code",
   "execution_count": 11,
   "id": "362c478a",
   "metadata": {},
   "outputs": [
    {
     "name": "stdout",
     "output_type": "stream",
     "text": [
      "(71, 7)\n",
      "(38, 7)\n"
     ]
    }
   ],
   "source": [
    "print(state21.shape)\n",
    "print(state28.shape)"
   ]
  },
  {
   "cell_type": "code",
   "execution_count": 12,
   "id": "3d08785c",
   "metadata": {},
   "outputs": [],
   "source": [
    "sample_state21 = state21.sample(n=20, replace = True, random_state=13490)\n",
    "sample_state28 = state28.sample(n=20, replace = True, random_state=39103)"
   ]
  },
  {
   "cell_type": "code",
   "execution_count": 15,
   "id": "96063bbb",
   "metadata": {},
   "outputs": [
    {
     "name": "stdout",
     "output_type": "stream",
     "text": [
      "(20, 7)\n",
      "(20, 7)\n"
     ]
    }
   ],
   "source": [
    "print(sample_state21.shape)\n",
    "print(sample_state28.shape)"
   ]
  },
  {
   "cell_type": "code",
   "execution_count": 17,
   "id": "ee00069a",
   "metadata": {},
   "outputs": [
    {
     "data": {
      "text/plain": [
       "70.82900000000001"
      ]
     },
     "execution_count": 17,
     "metadata": {},
     "output_type": "execute_result"
    }
   ],
   "source": [
    "sample_state21['OVERALL_LI'].mean()"
   ]
  },
  {
   "cell_type": "code",
   "execution_count": 18,
   "id": "6af5ec23",
   "metadata": {},
   "outputs": [
    {
     "data": {
      "text/plain": [
       "64.60100000000001"
      ]
     },
     "execution_count": 18,
     "metadata": {},
     "output_type": "execute_result"
    }
   ],
   "source": [
    "sample_state28['OVERALL_LI'].mean()"
   ]
  },
  {
   "cell_type": "markdown",
   "id": "03698d4b",
   "metadata": {},
   "source": [
    "STATE21 has a mean district literacy rate of about 70.8%, while STATE28 has a mean district literacy rate of about 64.6%.\n",
    "However, due to sampling variability, this observed difference might simply be due to chance, rather than an actual difference in the corresponding population means. A hypothesis test can help us determine whether or not the results are statistically significant."
   ]
  },
  {
   "cell_type": "markdown",
   "id": "24509bbd",
   "metadata": {},
   "source": [
    "A two-sample t-test is the standard approach for comparing the means of two independent samples. To review, the steps for conducting a hypothesis test are:\n",
    "1.   State the null hypothesis and the alternative hypothesis.\n",
    "2.   Choose a significance level.\n",
    "3.   Find the p-value. \n",
    "4.   Reject or fail to reject the null hypothesis."
   ]
  },
  {
   "cell_type": "markdown",
   "id": "fd5f4108",
   "metadata": {},
   "source": [
    "1.   State the null hypothesis and the alternative hypothesis.\n",
    "\n",
    "H0: There is no difference in the mean district literacy rates between STATE21 and STATE28.\n",
    "HA: There is a difference in the mean district literacy rates between STATE21 and STATE28.\n",
    "\n",
    "where H0 = null hypothesis, HA = alternative hypothesis"
   ]
  },
  {
   "cell_type": "markdown",
   "id": "1545b3b1",
   "metadata": {},
   "source": [
    "2.   Choose a significance level.\n",
    "\n",
    "The **significance level** is the threshold at which we will consider a result statistically significant. This is the probability of rejecting the null hypothesis when it is true. The Department of Education asks you to use their standard level of 5%, or 0.05.  "
   ]
  },
  {
   "cell_type": "markdown",
   "id": "0220cd14",
   "metadata": {},
   "source": [
    "3.   Find the p-value. \n",
    "\n",
    "P-value refers to the probability of observing results as or more extreme than those observed when the null hypothesis is true.\n",
    "\n",
    "Based on your sample data, the difference between the mean district literacy rates of STATE21 and STATE28 is 6.2 percentage points. The null hypothesis claims that this difference is due to chance. The p-value is the probability of observing an absolute difference in sample means that is 6.2 or greater if the null hypothesis is true. If the probability of this outcome is very unlikely—in particular, if your p-value is less than your significance level of 5%— then you will reject the null hypothesis."
   ]
  },
  {
   "cell_type": "code",
   "execution_count": 19,
   "id": "ec165d4a",
   "metadata": {},
   "outputs": [
    {
     "data": {
      "text/plain": [
       "TtestResult(statistic=2.8980444277268735, pvalue=0.006421719142765237, df=35.20796133045557)"
      ]
     },
     "execution_count": 19,
     "metadata": {},
     "output_type": "execute_result"
    }
   ],
   "source": [
    "# two sample t-test\n",
    "# a: Observations from the first sample\n",
    "# b: Observations from the second sample\n",
    "''' equal_var: \n",
    "A boolean, or true/false statement, which indicates whether the population variance of the two samples is assumed to be equal. \n",
    "In our example, you don’t have access to data for the entire population, so you don’t want to assume anything about the variance. \n",
    "To avoid making a wrong assumption, set this argument to False.\n",
    "'''\n",
    "stats.ttest_ind(a=sample_state21['OVERALL_LI'], b=sample_state28['OVERALL_LI'], equal_var=False)"
   ]
  },
  {
   "cell_type": "markdown",
   "id": "abf9a6f7",
   "metadata": {},
   "source": [
    "p-value is about 0.0064, or 0.64%. So, p-value is less than the significance level, i.e 5% or .05. Therefore, I reject the null hypothesis. In conclusion, there is a statistically significant difference between the mean district literacy rates of the two states: STATE21 and STATE28.\n",
    "\n"
   ]
  }
 ],
 "metadata": {
  "kernelspec": {
   "display_name": "Python 3",
   "language": "python",
   "name": "python3"
  },
  "language_info": {
   "codemirror_mode": {
    "name": "ipython",
    "version": 3
   },
   "file_extension": ".py",
   "mimetype": "text/x-python",
   "name": "python",
   "nbconvert_exporter": "python",
   "pygments_lexer": "ipython3",
   "version": "3.10.0"
  }
 },
 "nbformat": 4,
 "nbformat_minor": 5
}
